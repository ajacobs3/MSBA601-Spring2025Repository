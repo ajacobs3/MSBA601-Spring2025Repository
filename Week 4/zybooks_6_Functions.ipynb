{
 "cells": [
  {
   "cell_type": "markdown",
   "id": "652da054",
   "metadata": {},
   "source": [
    "\n",
    "# Python Functions\n",
    "\n",
    "A function is a block of code which only runs when it is called.\n",
    "\n",
    "\n",
    "A function can return data as a result.\n"
   ]
  },
  {
   "cell_type": "code",
   "execution_count": 13,
   "id": "d2566768",
   "metadata": {},
   "outputs": [],
   "source": [
    "\n",
    "# Creating a Function\n",
    "# In Python, a function is defined using the def keyword:\n",
    "\n",
    "def my_function():\n",
    "    print(\"Hello from a function\")\n"
   ]
  },
  {
   "cell_type": "code",
   "execution_count": null,
   "id": "b5ceb8ab",
   "metadata": {},
   "outputs": [],
   "source": [
    "\n",
    "# Calling a Function\n",
    "\n",
    "my_function()\n"
   ]
  },
  {
   "cell_type": "markdown",
   "id": "b37f1452",
   "metadata": {},
   "source": [
    "\n",
    "## Parameters\n",
    "\n",
    "Definition: Parameters are the variables that appear in the function definition. They serve as placeholders for the values that the function will receive when called.\n",
    "\n",
    "Location: Inside the function header (definition).\n",
    "\n",
    "Example:\n"
   ]
  },
  {
   "cell_type": "code",
   "execution_count": 15,
   "id": "d947efc5",
   "metadata": {},
   "outputs": [],
   "source": [
    "def greet(name):  # 'name' is a parameter\n",
    "    print(f\"Hello, {name}!\")"
   ]
  },
  {
   "cell_type": "markdown",
   "id": "97ec79c8",
   "metadata": {},
   "source": [
    "\n",
    "## Arguments\n",
    "\n",
    "Definition: Arguments are the actual values passed to the function when calling it.\n",
    "\n",
    "Location: Inside the function call.\n",
    "\n",
    "Example:\n"
   ]
  },
  {
   "cell_type": "code",
   "execution_count": null,
   "id": "c8bb4cf3",
   "metadata": {},
   "outputs": [],
   "source": [
    "greet(\"Alice\")  # 'Alice' is an argument"
   ]
  },
  {
   "cell_type": "code",
   "execution_count": null,
   "id": "eba4d332",
   "metadata": {},
   "outputs": [],
   "source": [
    "\n",
    "def my_function(fname):\n",
    "    print(fname + \" Refsnes\")\n",
    "\n",
    "my_function(\"Emil\") #these are arguments.\n",
    "my_function(\"Tobias\")\n",
    "my_function(\"Linus\")\n"
   ]
  },
  {
   "cell_type": "markdown",
   "id": "e30d030d",
   "metadata": {},
   "source": [
    "## Arbitrary Arguments, *args\n",
    "\n",
    "If you do not know how many arguments that will be passed into your function, add a * before the parameter name in the function definition.\n",
    "\n",
    "This way the function will receive a tuple of arguments, and can access the items accordingly:"
   ]
  },
  {
   "cell_type": "code",
   "execution_count": null,
   "id": "ab193190",
   "metadata": {},
   "outputs": [],
   "source": [
    "\n",
    "# Arbitrary Arguments (*args)\n",
    "\n",
    "def my_function(*kids):\n",
    "    print(\"The youngest child is \" + kids[0])\n",
    "\n",
    "my_function(\"Emil\", \"Tobias\", \"Linus\")\n"
   ]
  },
  {
   "cell_type": "markdown",
   "id": "a08cd3ca",
   "metadata": {},
   "source": [
    "## Keyword Arguments\n",
    "You can also send arguments with the key = value syntax.\n",
    "\n",
    "This way the order of the arguments does not matter."
   ]
  },
  {
   "cell_type": "code",
   "execution_count": null,
   "id": "e9b99d42",
   "metadata": {},
   "outputs": [],
   "source": [
    "\n",
    "# Keyword Arguments\n",
    "\n",
    "def my_function(child3, child2, child1):\n",
    "    print(\"The youngest child is \" + child2)\n",
    "\n",
    "my_function(child1 = \"Emil\", child2 = \"Tobias\", child3 = \"Linus\")\n"
   ]
  },
  {
   "cell_type": "markdown",
   "id": "9d02a862",
   "metadata": {},
   "source": [
    "## Arbitrary Keyword Arguments, **kwargs\n",
    "If you do not know how many keyword arguments that will be passed into your function, add two asterisk: ** before the parameter name in the function definition.\n",
    "\n",
    "This way the function will receive a dictionary of arguments, and can access the items accordingly:"
   ]
  },
  {
   "cell_type": "code",
   "execution_count": null,
   "id": "44dd4993",
   "metadata": {},
   "outputs": [],
   "source": [
    "\n",
    "# Arbitrary Keyword Arguments (**kwargs)\n",
    "\n",
    "def my_function(**kid):\n",
    "    print(\"His last name is \" + kid[\"fname\"])\n",
    "\n",
    "my_function(fname = \"Tobias\", lname = \"Refsnes\" , fname = \"test\")\n"
   ]
  },
  {
   "cell_type": "markdown",
   "id": "af2e43b0",
   "metadata": {},
   "source": [
    "## Default Parameter Value\n",
    "The following example shows how to use a default parameter value.\n",
    "\n",
    "If we call the function without argument, it uses the default value:"
   ]
  },
  {
   "cell_type": "code",
   "execution_count": null,
   "id": "736a1360",
   "metadata": {},
   "outputs": [],
   "source": [
    "\n",
    "# Default Parameter Value\n",
    "\n",
    "def my_function(country = \"Norway\"):\n",
    "    print(\"I am from \" + country)\n",
    "\n",
    "my_function(\"Sweden\")\n",
    "my_function(\"India\")\n",
    "my_function()\n",
    "my_function(\"Brazil\")\n"
   ]
  },
  {
   "cell_type": "markdown",
   "id": "60b7c566",
   "metadata": {},
   "source": [
    "## Passing a List as an Argument\n",
    "You can send any data types of argument to a function (string, number, list, dictionary etc.), and it will be treated as the same data type inside the function.\n",
    "\n",
    "E.g. if you send a List as an argument, it will still be a List when it reaches the function:"
   ]
  },
  {
   "cell_type": "code",
   "execution_count": null,
   "id": "149079d5",
   "metadata": {},
   "outputs": [],
   "source": [
    "\n",
    "# Passing a List as an Argument\n",
    "\n",
    "def my_function(food):\n",
    "    for x in food:\n",
    "        print(x)\n",
    "        print(\"------------------------\")\n"
   ]
  },
  {
   "cell_type": "markdown",
   "id": "6ae5f5a1",
   "metadata": {},
   "source": [
    "## Return Values\n",
    "To let a function return a value, use the return statement:"
   ]
  },
  {
   "cell_type": "code",
   "execution_count": null,
   "id": "1ff22dad",
   "metadata": {},
   "outputs": [],
   "source": [
    "\n",
    "# Return Values\n",
    "\n",
    "def my_function(x):\n",
    "    \n",
    "    print(5 * x)\n",
    "    return 5 * x\n",
    "\n",
    "z = my_function(3)\n",
    "a = my_function(5)\n",
    "b = my_function(9)\n"
   ]
  },
  {
   "cell_type": "code",
   "execution_count": null,
   "id": "06e52392",
   "metadata": {},
   "outputs": [],
   "source": [
    "#Note that return also stores variables in memory\n",
    "\n",
    "def my_function(x):\n",
    "        y=x*4\n",
    "        print(y)\n",
    "\n",
    "r= my_function(4)\n",
    "\n",
    "\n",
    "def my_function_2(x):\n",
    "        t=x*4\n",
    "        return t\n",
    "\n",
    "s = my_function_2(2)"
   ]
  },
  {
   "cell_type": "markdown",
   "id": "40ff4de9",
   "metadata": {},
   "source": [
    "## The pass Statement\n",
    "function definitions cannot be empty, but if you for some reason have a function definition with no content, put in the pass statement to avoid getting an error. This can be used for planinng, or creating placeholders. "
   ]
  },
  {
   "cell_type": "code",
   "execution_count": 7,
   "id": "115096d8",
   "metadata": {},
   "outputs": [],
   "source": [
    "\n",
    "# The pass Statement\n",
    "\n",
    "def my_function(number):\n",
    "    pass\n",
    "\n",
    "\n",
    "my_function(111)"
   ]
  },
  {
   "cell_type": "markdown",
   "id": "0a8fc344",
   "metadata": {},
   "source": [
    "## Positional-Only Arguments\n",
    "\n",
    "Positional-only arguments are a feature in Python that restrict how function arguments can be passed. If an argument is defined as positional-only, it must be provided without using its name (i.e., without a keyword).\n",
    "\n",
    "\n",
    "You can specify that a function can have ONLY positional arguments, or ONLY keyword arguments.\n",
    "\n",
    "To specify that a function can have only positional arguments, add , / after the arguments:"
   ]
  },
  {
   "cell_type": "code",
   "execution_count": null,
   "id": "2dcc9bea",
   "metadata": {},
   "outputs": [],
   "source": [
    "\n",
    "# Positional-Only Arguments\n",
    "\n",
    "def my_function(x, /):\n",
    "    print(x)\n",
    "\n",
    "my_function(3)\n"
   ]
  },
  {
   "cell_type": "code",
   "execution_count": null,
   "id": "c79da1f9",
   "metadata": {},
   "outputs": [],
   "source": [
    "\n",
    "# Keyword-Only Arguments\n",
    "\n",
    "def my_function(*, x):\n",
    "    print(x)\n",
    "\n",
    "my_function(x = 3)\n"
   ]
  },
  {
   "cell_type": "markdown",
   "id": "732ac476",
   "metadata": {},
   "source": [
    "## Combine Positional-Only and Keyword-Only\n",
    "You can combine the two argument types in the same function.\n",
    "\n",
    "Any argument before the / , are positional-only, and any argument after the *, are keyword-only."
   ]
  },
  {
   "cell_type": "code",
   "execution_count": null,
   "id": "183afa2f",
   "metadata": {},
   "outputs": [],
   "source": [
    "\n",
    "# Combine Positional-Only and Keyword-Only\n",
    "\n",
    "def my_function(a, b, /, *, c, d):\n",
    "    print(a + b + c + d)\n",
    "\n",
    "my_function(5, 6, c = 7, d = 8)\n"
   ]
  },
  {
   "cell_type": "markdown",
   "id": "6701a122",
   "metadata": {},
   "source": [
    "## Why Use Positional-Only Arguments?\n",
    "\n",
    "### 🔹 Prevents Confusion with Keywords:\n",
    "- Example: `len(obj)` is defined as `len(obj, /)`, preventing `len(obj=obj)`, which would be **awkward**.\n",
    "\n",
    "### 🔹 Avoids Unexpected Changes:\n",
    "- If a function’s parameter names change in the future, keyword arguments would break compatibility.\n",
    "\n",
    "### 🔹 Improves Performance Slightly:\n",
    "- Positional arguments are **faster** than keyword arguments because Python doesn't need to resolve names.\n",
    "\n",
    "---\n",
    "\n",
    "## When to Use Positional-Only Arguments\n",
    "\n",
    "### ✅ **Good Use Cases:**\n",
    "- Simple utility functions (`len()`, `sum()`, `min()`, `max()`)\n",
    "- Avoiding **breaking API changes** when renaming parameters\n",
    "- Preventing unnecessary keyword argument usage for commonly used functions\n",
    "\n",
    "### ❌ **When NOT to Use:**\n",
    "- If you expect users to provide arguments with meaningful names  \n",
    "  _(e.g., `connect(host=\"localhost\", port=8080)`)_\n",
    "- If you want to make arguments flexible for keyword-based overrides\n"
   ]
  },
  {
   "cell_type": "markdown",
   "id": "10a457a5",
   "metadata": {},
   "source": [
    "# Why Use Functions/The Case of Why They're Awesome!\n",
    "\n",
    "- Improving program readability\n",
    "- Avoid writing redundant code"
   ]
  }
 ],
 "metadata": {
  "kernelspec": {
   "display_name": "venv",
   "language": "python",
   "name": "python3"
  },
  "language_info": {
   "codemirror_mode": {
    "name": "ipython",
    "version": 3
   },
   "file_extension": ".py",
   "mimetype": "text/x-python",
   "name": "python",
   "nbconvert_exporter": "python",
   "pygments_lexer": "ipython3",
   "version": "3.10.8"
  }
 },
 "nbformat": 4,
 "nbformat_minor": 5
}
